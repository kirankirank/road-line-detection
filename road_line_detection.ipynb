{
 "cells": [
  {
   "cell_type": "code",
   "execution_count": 98,
   "id": "410985b5",
   "metadata": {},
   "outputs": [],
   "source": [
    "import cv2\n",
    "import matplotlib.pyplot as mpl\n",
    "import numpy as np"
   ]
  },
  {
   "cell_type": "code",
   "execution_count": 99,
   "id": "ace962a5",
   "metadata": {},
   "outputs": [],
   "source": [
    "def region(v, canny, video):\n",
    "    mask = np.zeros_like(video)\n",
    "    points = np.array([[[100, v.shape[1]],[280,400], [420,400],[590,v.shape[1]]]])\n",
    "    cv2.fillPoly(mask, np.int32(points), (255,255,255))\n",
    "    r = cv2.bitwise_and(video,mask)\n",
    "    return r"
   ]
  },
  {
   "cell_type": "code",
   "execution_count": 100,
   "id": "88184314",
   "metadata": {},
   "outputs": [],
   "source": [
    "def display_lines(v, points):\n",
    "      \n",
    "    if points is not None:\n",
    "        for i in points:\n",
    "            a,b,c,d = i[0]\n",
    "        cv2.line(v, [a,b],[c,d],(255,0,0),5)\n",
    "            "
   ]
  },
  {
   "cell_type": "code",
   "execution_count": 109,
   "id": "7c4f9ace",
   "metadata": {},
   "outputs": [],
   "source": [
    "def canny(img):\n",
    "    img = cv2.cvtColor(img, cv2.COLOR_RGB2GRAY)\n",
    "    blur = cv2.medianBlur(img,ksize=11)\n",
    "    canny = cv2.Canny(blur, 150,50)\n",
    "    #zeros = np.full(shape = img.shape, fill_value = 255, dtype = np.int)\n",
    "    points = np.array([[170, y], [300,400], [400, 400], [500, y]])\n",
    "    cv2.fillPoly(v, np.int32([points]), (0,128,0))\n",
    "    cv2.line(v, [170, y], [500,y], (255,255,255), 5)\n",
    "    cv2.line(v, [170, y], [300,400], (255,255,255), 5)\n",
    "    cv2.line(v, [300, 400], [400,400], (255,255,255), 5)\n",
    "    cv2.line(v, [400, 400], [500,y], (255,255,255), 5)\n",
    "    #lines = cv2.HoughLinesP(canny, 2, np.pi/180, 200, np.array([]), minLineLength = 150 , maxLineGap = 5)\n",
    "    return canny"
   ]
  },
  {
   "cell_type": "code",
   "execution_count": 110,
   "id": "9140cefe",
   "metadata": {},
   "outputs": [],
   "source": [
    "video = cv2.VideoCapture(\"C:/Users/kiran/Downloads/test1.mp4\")\n",
    "while True:\n",
    "    _, v = video.read()\n",
    "    v = cv2.resize(v, (600, 600), fx = 0, fy = 0, interpolation = cv2.INTER_CUBIC)\n",
    "    x, y, c = v.shape\n",
    "    small = np.copy(v)\n",
    "    canny_video = canny(v)\n",
    "    region_interest = region(v, canny , canny_video)\n",
    "   # points = cv2.HoughLinesP(region_interest, 2, np.pi/180, 200, np.array([]), minLineLength = 150 , maxLineGap = 5)\n",
    "    \n",
    "    #line_image = display_lines(v, points)\n",
    "    cv2.imshow(\"orginal\", v)\n",
    "    \n",
    "    if cv2.waitKey(25) & 0xFF == ord('q'):\n",
    "            break                        \n",
    "video.release()\n",
    "# Closes all the frames\n",
    "cv2.destroyAllWindows()"
   ]
  },
  {
   "cell_type": "code",
   "execution_count": 51,
   "id": "3566e25b",
   "metadata": {},
   "outputs": [],
   "source": [
    "cv2.destroyAllWindows()"
   ]
  },
  {
   "cell_type": "code",
   "execution_count": null,
   "id": "f2e245d8",
   "metadata": {},
   "outputs": [],
   "source": []
  }
 ],
 "metadata": {
  "kernelspec": {
   "display_name": "Python 3 (ipykernel)",
   "language": "python",
   "name": "python3"
  },
  "language_info": {
   "codemirror_mode": {
    "name": "ipython",
    "version": 3
   },
   "file_extension": ".py",
   "mimetype": "text/x-python",
   "name": "python",
   "nbconvert_exporter": "python",
   "pygments_lexer": "ipython3",
   "version": "3.8.13"
  }
 },
 "nbformat": 4,
 "nbformat_minor": 5
}
